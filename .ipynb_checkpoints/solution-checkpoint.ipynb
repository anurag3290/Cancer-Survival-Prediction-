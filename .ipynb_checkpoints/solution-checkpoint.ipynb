{
 "cells": [
  {
   "cell_type": "code",
   "execution_count": 1,
   "metadata": {},
   "outputs": [
    {
     "name": "stderr",
     "output_type": "stream",
     "text": [
      "Using TensorFlow backend.\n"
     ]
    }
   ],
   "source": [
    "import pandas as pd\n",
    "import numpy as np\n",
    "import matplotlib.pyplot as plt\n",
    "import seaborn as sns\n",
    "from datetime import datetime\n",
    "import calendar \n",
    "from sklearn.experimental import enable_iterative_imputer  \n",
    "from sklearn.impute import IterativeImputer\n",
    "from sklearn.preprocessing import MinMaxScaler\n",
    "from sklearn.model_selection import train_test_split, GridSearchCV\n",
    "from sklearn.ensemble import RandomForestClassifier \n",
    "from sklearn.tree import DecisionTreeClassifier\n",
    "from sklearn.linear_model import LogisticRegression \n",
    "from xgboost import XGBClassifier\n",
    "from sklearn import metrics\n",
    "from sklearn.metrics import classification_report,confusion_matrix\n",
    "import keras \n",
    "from keras.layers import Dense\n",
    "from keras.models import Sequential\n",
    "%matplotlib inline\n",
    "pd.set_option('display.max_columns', 300)\n",
    "pd.set_option('display.max_row', 300)"
   ]
  },
  {
   "cell_type": "markdown",
   "metadata": {},
   "source": [
    "### Creating Epoch Mappings"
   ]
  },
  {
   "cell_type": "code",
   "execution_count": 2,
   "metadata": {},
   "outputs": [
    {
     "data": {
      "text/html": [
       "<div>\n",
       "<style scoped>\n",
       "    .dataframe tbody tr th:only-of-type {\n",
       "        vertical-align: middle;\n",
       "    }\n",
       "\n",
       "    .dataframe tbody tr th {\n",
       "        vertical-align: top;\n",
       "    }\n",
       "\n",
       "    .dataframe thead th {\n",
       "        text-align: right;\n",
       "    }\n",
       "</style>\n",
       "<table border=\"1\" class=\"dataframe\">\n",
       "  <thead>\n",
       "    <tr style=\"text-align: right;\">\n",
       "      <th></th>\n",
       "      <th>Epoch</th>\n",
       "      <th>Period</th>\n",
       "    </tr>\n",
       "  </thead>\n",
       "  <tbody>\n",
       "    <tr>\n",
       "      <th>0</th>\n",
       "      <td>0</td>\n",
       "      <td>Jan-2000</td>\n",
       "    </tr>\n",
       "    <tr>\n",
       "      <th>1</th>\n",
       "      <td>1</td>\n",
       "      <td>Feb-2000</td>\n",
       "    </tr>\n",
       "    <tr>\n",
       "      <th>2</th>\n",
       "      <td>2</td>\n",
       "      <td>Mar-2000</td>\n",
       "    </tr>\n",
       "    <tr>\n",
       "      <th>3</th>\n",
       "      <td>3</td>\n",
       "      <td>Apr-2000</td>\n",
       "    </tr>\n",
       "    <tr>\n",
       "      <th>4</th>\n",
       "      <td>4</td>\n",
       "      <td>May-2000</td>\n",
       "    </tr>\n",
       "  </tbody>\n",
       "</table>\n",
       "</div>"
      ],
      "text/plain": [
       "   Epoch    Period\n",
       "0      0  Jan-2000\n",
       "1      1  Feb-2000\n",
       "2      2  Mar-2000\n",
       "3      3  Apr-2000\n",
       "4      4  May-2000"
      ]
     },
     "execution_count": 2,
     "metadata": {},
     "output_type": "execute_result"
    }
   ],
   "source": [
    "#create a list on epochs\n",
    "summary = []\n",
    "mCount = 1\n",
    "year = 2000\n",
    "for c in range(0, 84):\n",
    "    if mCount == 13:\n",
    "        mCount = 1\n",
    "        year = year + 1\n",
    "    datev = str(mCount) + '-' + str(year)\n",
    "    datev = datetime.strptime(datev, '%m-%Y')\n",
    "    datev = datev.strftime(\"%b-%Y\")\n",
    "    #print(c,datev)\n",
    "    d_input = [c,datev]\n",
    "    summary.append(d_input)\n",
    "    mCount = mCount + 1 \n",
    "mon = pd.DataFrame(summary)\n",
    "mon.columns = ['Epoch','Period']\n",
    "mon.head()"
   ]
  },
  {
   "cell_type": "markdown",
   "metadata": {},
   "source": [
    "## Reading Files"
   ]
  },
  {
   "cell_type": "code",
   "execution_count": 3,
   "metadata": {},
   "outputs": [
    {
     "name": "stdout",
     "output_type": "stream",
     "text": [
      "Raw Data Shape: (14385, 32)   Validation Data Shape: (1000, 32)\n"
     ]
    }
   ],
   "source": [
    "raw = pd.read_csv(\"~/Downloads/DS/train.csv\",index_col=0)\n",
    "validation = pd.read_csv(\"~/Downloads/DS/test.csv\",index_col=0)\n",
    "print('Raw Data Shape:',raw.shape,'  Validation Data Shape:',validation.shape)"
   ]
  },
  {
   "cell_type": "markdown",
   "metadata": {},
   "source": [
    "#### Combining both dataset"
   ]
  },
  {
   "cell_type": "code",
   "execution_count": 4,
   "metadata": {},
   "outputs": [],
   "source": [
    "merged = pd.concat([raw,validation],ignore_index=True, sort=False)"
   ]
  },
  {
   "cell_type": "code",
   "execution_count": 5,
   "metadata": {},
   "outputs": [],
   "source": [
    "data = merged.drop(['survival_7_years'], axis=1)\n",
    "survival_7_years = raw['survival_7_years'].reset_index(drop=True)"
   ]
  },
  {
   "cell_type": "markdown",
   "metadata": {},
   "source": [
    "## 1. Data Cleaning"
   ]
  },
  {
   "cell_type": "code",
   "execution_count": 6,
   "metadata": {},
   "outputs": [
    {
     "data": {
      "text/plain": [
       "<matplotlib.axes._subplots.AxesSubplot at 0x7fea68f96198>"
      ]
     },
     "execution_count": 6,
     "metadata": {},
     "output_type": "execute_result"
    },
    {
     "data": {
      "image/png": "[encoded data removed]",
      "text/plain": [
       "<Figure size 1152x864 with 1 Axes>"
      ]
     },
     "metadata": {
      "needs_background": "light"
     },
     "output_type": "display_data"
    }
   ],
   "source": [
    "# 17 attributes constitutes missing value among them 16 are continous attributes and can be treated with regression techinique\n",
    "plt.figure(figsize=(16, 12))\n",
    "data.isnull().sum().plot(kind='barh')"
   ]
  },
  {
   "cell_type": "markdown",
   "metadata": {},
   "source": [
    "#### Treating symptoms column (2.66% values are missing)"
   ]
  },
  {
   "cell_type": "code",
   "execution_count": 7,
   "metadata": {},
   "outputs": [],
   "source": [
    "# Imputing it by its mode\n",
    "data['symptoms'] = data['symptoms'].fillna(data['symptoms'].mode()[0])"
   ]
  },
  {
   "cell_type": "markdown",
   "metadata": {},
   "source": [
    "#### Imputing missing values using Multiple_Imputation_by_Chained_Equations\n",
    "https://www.researchgate.net/profile/Linda_Ejlskov/publication/316789124_Multiple_Imputation_by_Chained_Equations_in_Praxis_Guidelines_and_Review/links/5911bec0aca27200fe369a0f/Multiple-Imputation-by-Chained-Equations-in-Praxis-Guidelines-and-Review.pdf"
   ]
  },
  {
   "cell_type": "code",
   "execution_count": 8,
   "metadata": {},
   "outputs": [
    {
     "name": "stderr",
     "output_type": "stream",
     "text": [
      "/home/anurag/anaconda3/lib/python3.7/site-packages/sklearn/impute/_iterative.py:599: ConvergenceWarning: [IterativeImputer] Early stopping criterion not reached.\n",
      "  \" reached.\", ConvergenceWarning)\n"
     ]
    }
   ],
   "source": [
    "missin_col_Names = data.select_dtypes('number').columns\n",
    "imp_mean = IterativeImputer(random_state=0)\n",
    "imp_mean.fit(data.select_dtypes('number'))\n",
    "cont_df = pd.DataFrame(imp_mean.transform(data.select_dtypes('number')))\n",
    "cont_df.columns = missin_col_Names\n",
    "data = data.drop(missin_col_Names, axis = 1) \n",
    "data = pd.concat([data,cont_df], axis=1)\n",
    "for column in data.columns:\n",
    "    data[column].fillna(data[column].mode()[0], inplace=True)"
   ]
  },
  {
   "cell_type": "code",
   "execution_count": 9,
   "metadata": {},
   "outputs": [
    {
     "name": "stdout",
     "output_type": "stream",
     "text": [
      "Columns With Missing Values: Index([], dtype='object')\n"
     ]
    }
   ],
   "source": [
    "print('Columns With Missing Values:', data.columns[data.isnull().any()])"
   ]
  },
  {
   "cell_type": "markdown",
   "metadata": {},
   "source": [
    "#### diagnosis_date"
   ]
  },
  {
   "cell_type": "code",
   "execution_count": 10,
   "metadata": {},
   "outputs": [],
   "source": [
    "# Extracting month and year from the date\n",
    "data['diagnosis_date'] = pd.to_datetime(data['diagnosis_date'])\n",
    "data['Year'] = data['diagnosis_date'].dt.year\n",
    "data['Month'] = data['diagnosis_date'].dt.month\n",
    "d = dict(enumerate(calendar.month_abbr))\n",
    "data['Month'] = data['Month'].map(d)\n",
    "# Dropping column 'diagnosis_date' as day is all '1'\n",
    "data = data.drop(['diagnosis_date'], axis = 1) "
   ]
  },
  {
   "cell_type": "markdown",
   "metadata": {},
   "source": [
    "#### symptoms"
   ]
  },
  {
   "cell_type": "code",
   "execution_count": 11,
   "metadata": {},
   "outputs": [
    {
     "data": {
      "text/html": [
       "<div>\n",
       "<style scoped>\n",
       "    .dataframe tbody tr th:only-of-type {\n",
       "        vertical-align: middle;\n",
       "    }\n",
       "\n",
       "    .dataframe tbody tr th {\n",
       "        vertical-align: top;\n",
       "    }\n",
       "\n",
       "    .dataframe thead th {\n",
       "        text-align: right;\n",
       "    }\n",
       "</style>\n",
       "<table border=\"1\" class=\"dataframe\">\n",
       "  <thead>\n",
       "    <tr style=\"text-align: right;\">\n",
       "      <th></th>\n",
       "      <th>t_score</th>\n",
       "      <th>n_score</th>\n",
       "      <th>m_score</th>\n",
       "      <th>stage</th>\n",
       "      <th>side</th>\n",
       "      <th>gleason_score</th>\n",
       "      <th>age</th>\n",
       "      <th>race</th>\n",
       "      <th>height</th>\n",
       "      <th>weight</th>\n",
       "      <th>family_history</th>\n",
       "      <th>first_degree_history</th>\n",
       "      <th>previous_cancer</th>\n",
       "      <th>smoker</th>\n",
       "      <th>tumor_diagnosis</th>\n",
       "      <th>tumor_6_months</th>\n",
       "      <th>tumor_1_year</th>\n",
       "      <th>psa_diagnosis</th>\n",
       "      <th>psa_6_months</th>\n",
       "      <th>psa_1_year</th>\n",
       "      <th>tea</th>\n",
       "      <th>rd_thrpy</th>\n",
       "      <th>h_thrpy</th>\n",
       "      <th>chm_thrpy</th>\n",
       "      <th>cry_thrpy</th>\n",
       "      <th>brch_thrpy</th>\n",
       "      <th>rad_rem</th>\n",
       "      <th>multi_thrpy</th>\n",
       "      <th>survival_1_year</th>\n",
       "      <th>Year</th>\n",
       "      <th>Month</th>\n",
       "      <th>symptom_O01</th>\n",
       "      <th>symptom_O08</th>\n",
       "      <th>symptom_O09</th>\n",
       "      <th>symptom_O10</th>\n",
       "      <th>symptom_O11</th>\n",
       "      <th>symptom_P01</th>\n",
       "      <th>symptom_P02</th>\n",
       "      <th>symptom_P03</th>\n",
       "      <th>symptom_S04</th>\n",
       "      <th>symptom_S07</th>\n",
       "      <th>symptom_S10</th>\n",
       "      <th>symptom_U01</th>\n",
       "      <th>symptom_U02</th>\n",
       "      <th>symptom_U03</th>\n",
       "      <th>symptom_U05</th>\n",
       "      <th>symptom_U06</th>\n",
       "      <th>total_symptoms</th>\n",
       "    </tr>\n",
       "  </thead>\n",
       "  <tbody>\n",
       "    <tr>\n",
       "      <th>0</th>\n",
       "      <td>T1c</td>\n",
       "      <td>N0</td>\n",
       "      <td>M0</td>\n",
       "      <td>I</td>\n",
       "      <td>both</td>\n",
       "      <td>4.0</td>\n",
       "      <td>86.0</td>\n",
       "      <td>4.0</td>\n",
       "      <td>66.0</td>\n",
       "      <td>158.000000</td>\n",
       "      <td>0.0</td>\n",
       "      <td>0.0</td>\n",
       "      <td>0.0</td>\n",
       "      <td>0.0</td>\n",
       "      <td>70.0</td>\n",
       "      <td>48.414299</td>\n",
       "      <td>39.000000</td>\n",
       "      <td>8.70000</td>\n",
       "      <td>5.681268</td>\n",
       "      <td>4.200000</td>\n",
       "      <td>2.0</td>\n",
       "      <td>0.0</td>\n",
       "      <td>0.0</td>\n",
       "      <td>1.0</td>\n",
       "      <td>1.0</td>\n",
       "      <td>0.0</td>\n",
       "      <td>1.0</td>\n",
       "      <td>1.0</td>\n",
       "      <td>1.0</td>\n",
       "      <td>2005</td>\n",
       "      <td>Jun</td>\n",
       "      <td>0</td>\n",
       "      <td>0</td>\n",
       "      <td>0</td>\n",
       "      <td>0</td>\n",
       "      <td>0</td>\n",
       "      <td>0</td>\n",
       "      <td>0</td>\n",
       "      <td>0</td>\n",
       "      <td>0</td>\n",
       "      <td>0</td>\n",
       "      <td>0</td>\n",
       "      <td>0</td>\n",
       "      <td>0</td>\n",
       "      <td>1</td>\n",
       "      <td>0</td>\n",
       "      <td>0</td>\n",
       "      <td>1</td>\n",
       "    </tr>\n",
       "    <tr>\n",
       "      <th>1</th>\n",
       "      <td>T3a</td>\n",
       "      <td>N1</td>\n",
       "      <td>M0</td>\n",
       "      <td>IV</td>\n",
       "      <td>both</td>\n",
       "      <td>8.0</td>\n",
       "      <td>66.0</td>\n",
       "      <td>2.0</td>\n",
       "      <td>70.0</td>\n",
       "      <td>174.000000</td>\n",
       "      <td>0.0</td>\n",
       "      <td>0.0</td>\n",
       "      <td>0.0</td>\n",
       "      <td>1.0</td>\n",
       "      <td>43.0</td>\n",
       "      <td>28.000000</td>\n",
       "      <td>16.000000</td>\n",
       "      <td>13.70000</td>\n",
       "      <td>9.800000</td>\n",
       "      <td>7.500000</td>\n",
       "      <td>4.0</td>\n",
       "      <td>1.0</td>\n",
       "      <td>1.0</td>\n",
       "      <td>1.0</td>\n",
       "      <td>0.0</td>\n",
       "      <td>0.0</td>\n",
       "      <td>0.0</td>\n",
       "      <td>1.0</td>\n",
       "      <td>1.0</td>\n",
       "      <td>2006</td>\n",
       "      <td>Feb</td>\n",
       "      <td>0</td>\n",
       "      <td>0</td>\n",
       "      <td>0</td>\n",
       "      <td>0</td>\n",
       "      <td>0</td>\n",
       "      <td>0</td>\n",
       "      <td>0</td>\n",
       "      <td>0</td>\n",
       "      <td>0</td>\n",
       "      <td>1</td>\n",
       "      <td>0</td>\n",
       "      <td>0</td>\n",
       "      <td>0</td>\n",
       "      <td>0</td>\n",
       "      <td>0</td>\n",
       "      <td>1</td>\n",
       "      <td>2</td>\n",
       "    </tr>\n",
       "    <tr>\n",
       "      <th>2</th>\n",
       "      <td>T1a</td>\n",
       "      <td>N0</td>\n",
       "      <td>M0</td>\n",
       "      <td>IIB</td>\n",
       "      <td>right</td>\n",
       "      <td>9.0</td>\n",
       "      <td>84.0</td>\n",
       "      <td>4.0</td>\n",
       "      <td>69.0</td>\n",
       "      <td>174.192237</td>\n",
       "      <td>0.0</td>\n",
       "      <td>0.0</td>\n",
       "      <td>0.0</td>\n",
       "      <td>0.0</td>\n",
       "      <td>51.0</td>\n",
       "      <td>65.857005</td>\n",
       "      <td>89.000000</td>\n",
       "      <td>16.00000</td>\n",
       "      <td>15.900000</td>\n",
       "      <td>18.500000</td>\n",
       "      <td>0.0</td>\n",
       "      <td>1.0</td>\n",
       "      <td>1.0</td>\n",
       "      <td>0.0</td>\n",
       "      <td>0.0</td>\n",
       "      <td>1.0</td>\n",
       "      <td>1.0</td>\n",
       "      <td>1.0</td>\n",
       "      <td>1.0</td>\n",
       "      <td>2006</td>\n",
       "      <td>Mar</td>\n",
       "      <td>0</td>\n",
       "      <td>0</td>\n",
       "      <td>0</td>\n",
       "      <td>0</td>\n",
       "      <td>0</td>\n",
       "      <td>0</td>\n",
       "      <td>0</td>\n",
       "      <td>0</td>\n",
       "      <td>0</td>\n",
       "      <td>0</td>\n",
       "      <td>1</td>\n",
       "      <td>1</td>\n",
       "      <td>1</td>\n",
       "      <td>1</td>\n",
       "      <td>0</td>\n",
       "      <td>0</td>\n",
       "      <td>4</td>\n",
       "    </tr>\n",
       "    <tr>\n",
       "      <th>3</th>\n",
       "      <td>T2b</td>\n",
       "      <td>N0</td>\n",
       "      <td>M0</td>\n",
       "      <td>IIB</td>\n",
       "      <td>right</td>\n",
       "      <td>8.0</td>\n",
       "      <td>86.0</td>\n",
       "      <td>3.0</td>\n",
       "      <td>69.0</td>\n",
       "      <td>173.000000</td>\n",
       "      <td>0.0</td>\n",
       "      <td>0.0</td>\n",
       "      <td>0.0</td>\n",
       "      <td>0.0</td>\n",
       "      <td>104.0</td>\n",
       "      <td>89.009823</td>\n",
       "      <td>82.055852</td>\n",
       "      <td>11.75726</td>\n",
       "      <td>9.818032</td>\n",
       "      <td>9.227457</td>\n",
       "      <td>2.0</td>\n",
       "      <td>0.0</td>\n",
       "      <td>0.0</td>\n",
       "      <td>0.0</td>\n",
       "      <td>1.0</td>\n",
       "      <td>0.0</td>\n",
       "      <td>1.0</td>\n",
       "      <td>1.0</td>\n",
       "      <td>0.0</td>\n",
       "      <td>2005</td>\n",
       "      <td>Feb</td>\n",
       "      <td>0</td>\n",
       "      <td>0</td>\n",
       "      <td>0</td>\n",
       "      <td>0</td>\n",
       "      <td>1</td>\n",
       "      <td>0</td>\n",
       "      <td>0</td>\n",
       "      <td>0</td>\n",
       "      <td>0</td>\n",
       "      <td>0</td>\n",
       "      <td>1</td>\n",
       "      <td>1</td>\n",
       "      <td>1</td>\n",
       "      <td>0</td>\n",
       "      <td>0</td>\n",
       "      <td>0</td>\n",
       "      <td>4</td>\n",
       "    </tr>\n",
       "    <tr>\n",
       "      <th>4</th>\n",
       "      <td>T4</td>\n",
       "      <td>N0</td>\n",
       "      <td>M0</td>\n",
       "      <td>IV</td>\n",
       "      <td>left</td>\n",
       "      <td>8.0</td>\n",
       "      <td>78.0</td>\n",
       "      <td>4.0</td>\n",
       "      <td>70.0</td>\n",
       "      <td>201.000000</td>\n",
       "      <td>1.0</td>\n",
       "      <td>1.0</td>\n",
       "      <td>0.0</td>\n",
       "      <td>0.0</td>\n",
       "      <td>72.0</td>\n",
       "      <td>76.459681</td>\n",
       "      <td>87.000000</td>\n",
       "      <td>18.10000</td>\n",
       "      <td>18.087855</td>\n",
       "      <td>19.008855</td>\n",
       "      <td>2.0</td>\n",
       "      <td>1.0</td>\n",
       "      <td>1.0</td>\n",
       "      <td>1.0</td>\n",
       "      <td>0.0</td>\n",
       "      <td>0.0</td>\n",
       "      <td>0.0</td>\n",
       "      <td>1.0</td>\n",
       "      <td>1.0</td>\n",
       "      <td>2001</td>\n",
       "      <td>Dec</td>\n",
       "      <td>0</td>\n",
       "      <td>0</td>\n",
       "      <td>0</td>\n",
       "      <td>0</td>\n",
       "      <td>0</td>\n",
       "      <td>0</td>\n",
       "      <td>0</td>\n",
       "      <td>0</td>\n",
       "      <td>0</td>\n",
       "      <td>1</td>\n",
       "      <td>0</td>\n",
       "      <td>1</td>\n",
       "      <td>0</td>\n",
       "      <td>1</td>\n",
       "      <td>1</td>\n",
       "      <td>0</td>\n",
       "      <td>4</td>\n",
       "    </tr>\n",
       "  </tbody>\n",
       "</table>\n",
       "</div>"
      ],
      "text/plain": [
       "  t_score n_score m_score stage   side  gleason_score   age  race  height  \\\n",
       "0     T1c      N0      M0     I   both            4.0  86.0   4.0    66.0   \n",
       "1     T3a      N1      M0    IV   both            8.0  66.0   2.0    70.0   \n",
       "2     T1a      N0      M0   IIB  right            9.0  84.0   4.0    69.0   \n",
       "3     T2b      N0      M0   IIB  right            8.0  86.0   3.0    69.0   \n",
       "4      T4      N0      M0    IV   left            8.0  78.0   4.0    70.0   \n",
       "\n",
       "       weight  family_history  first_degree_history  previous_cancer  smoker  \\\n",
       "0  158.000000             0.0                   0.0              0.0     0.0   \n",
       "1  174.000000             0.0                   0.0              0.0     1.0   \n",
       "2  174.192237             0.0                   0.0              0.0     0.0   \n",
       "3  173.000000             0.0                   0.0              0.0     0.0   \n",
       "4  201.000000             1.0                   1.0              0.0     0.0   \n",
       "\n",
       "   tumor_diagnosis  tumor_6_months  tumor_1_year  psa_diagnosis  psa_6_months  \\\n",
       "0             70.0       48.414299     39.000000        8.70000      5.681268   \n",
       "1             43.0       28.000000     16.000000       13.70000      9.800000   \n",
       "2             51.0       65.857005     89.000000       16.00000     15.900000   \n",
       "3            104.0       89.009823     82.055852       11.75726      9.818032   \n",
       "4             72.0       76.459681     87.000000       18.10000     18.087855   \n",
       "\n",
       "   psa_1_year  tea  rd_thrpy  h_thrpy  chm_thrpy  cry_thrpy  brch_thrpy  \\\n",
       "0    4.200000  2.0       0.0      0.0        1.0        1.0         0.0   \n",
       "1    7.500000  4.0       1.0      1.0        1.0        0.0         0.0   \n",
       "2   18.500000  0.0       1.0      1.0        0.0        0.0         1.0   \n",
       "3    9.227457  2.0       0.0      0.0        0.0        1.0         0.0   \n",
       "4   19.008855  2.0       1.0      1.0        1.0        0.0         0.0   \n",
       "\n",
       "   rad_rem  multi_thrpy  survival_1_year  Year Month  symptom_O01  \\\n",
       "0      1.0          1.0              1.0  2005   Jun            0   \n",
       "1      0.0          1.0              1.0  2006   Feb            0   \n",
       "2      1.0          1.0              1.0  2006   Mar            0   \n",
       "3      1.0          1.0              0.0  2005   Feb            0   \n",
       "4      0.0          1.0              1.0  2001   Dec            0   \n",
       "\n",
       "   symptom_O08  symptom_O09  symptom_O10  symptom_O11  symptom_P01  \\\n",
       "0            0            0            0            0            0   \n",
       "1            0            0            0            0            0   \n",
       "2            0            0            0            0            0   \n",
       "3            0            0            0            1            0   \n",
       "4            0            0            0            0            0   \n",
       "\n",
       "   symptom_P02  symptom_P03  symptom_S04  symptom_S07  symptom_S10  \\\n",
       "0            0            0            0            0            0   \n",
       "1            0            0            0            1            0   \n",
       "2            0            0            0            0            1   \n",
       "3            0            0            0            0            1   \n",
       "4            0            0            0            1            0   \n",
       "\n",
       "   symptom_U01  symptom_U02  symptom_U03  symptom_U05  symptom_U06  \\\n",
       "0            0            0            1            0            0   \n",
       "1            0            0            0            0            1   \n",
       "2            1            1            1            0            0   \n",
       "3            1            1            0            0            0   \n",
       "4            1            0            1            1            0   \n",
       "\n",
       "   total_symptoms  \n",
       "0               1  \n",
       "1               2  \n",
       "2               4  \n",
       "3               4  \n",
       "4               4  "
      ]
     },
     "execution_count": 11,
     "metadata": {},
     "output_type": "execute_result"
    }
   ],
   "source": [
    "# symptoms columns have comma separated values. So converting it into dummies along with an aggregated column as total_symptoms\n",
    "symp_df = data['symptoms'].str.get_dummies(sep=',').add_prefix('symptom_')\n",
    "symp_df['total_symptoms'] = symp_df.sum(axis=1)\n",
    "data = data.drop(['symptoms'], axis = 1) \n",
    "data = pd.concat([data,symp_df], axis=1)\n",
    "data.head()"
   ]
  },
  {
   "cell_type": "markdown",
   "metadata": {},
   "source": [
    "## 2. Exploratory Data Analysis"
   ]
  },
  {
   "attachments": {},
   "cell_type": "markdown",
   "metadata": {},
   "source": [
    "#### Some attributes are showing strong correlation<br>\n",
    "1. Height and weight (BMI)<br>\n",
    "2. tumor_diagnosis, tumor_6_months and tumor_1_year<br>\n",
    "3. prostate-specific antigen (PSA diagnosis): at the time of diagnosis and 6 month & 1 year after diagnosis\n",
    "4. family_history and first_degree_history : shows that prostate cancer highly correlated with first degree relation(brother and father) who have diagnosed with cancer<br>\n",
    "5. Therapies in conjuction : When multiple therapies used in conjunction, highest correlation with rd_thrpy shows that Radio therapy used more oftenly followed by Hormone therapy and then Chemo therapy"
   ]
  },
  {
   "cell_type": "code",
   "execution_count": 12,
   "metadata": {},
   "outputs": [
    {
     "data": {
      "image/png": "[encoded data removed]",
      "text/plain": [
       "<Figure size 1152x1008 with 2 Axes>"
      ]
     },
     "metadata": {
      "needs_background": "light"
     },
     "output_type": "display_data"
    }
   ],
   "source": [
    "# Correaltion Matrix\n",
    "plt.figure(figsize=(16,14))\n",
    "sns.heatmap(data.corr(), cbar=True, square=True, annot_kws={'size': 10},cmap=\"BuPu\")\n",
    "plt.show()"
   ]
  },
  {
   "cell_type": "markdown",
   "metadata": {},
   "source": [
    "### Analysing Target Varaible \n",
    "Overall Survial Rate : 43.22%"
   ]
  },
  {
   "cell_type": "code",
   "execution_count": 13,
   "metadata": {},
   "outputs": [
    {
     "data": {
      "text/plain": [
       "0    8168\n",
       "1    6217\n",
       "Name: survival_7_years, dtype: int64"
      ]
     },
     "execution_count": 13,
     "metadata": {},
     "output_type": "execute_result"
    }
   ],
   "source": [
    "# NOT highly imbalance\n",
    "# Deaths are more than the survival\n",
    "survival_7_years.value_counts()"
   ]
  },
  {
   "cell_type": "markdown",
   "metadata": {},
   "source": [
    "1. gleason_score less than or equal to 8 portray more survival rate than of above 8 <br>\n",
    "2. Similarly, age above 80 depicts higher death rate\n",
    "3. Race 4 category accounts for very high number of patients than other category\n",
    "4. Weight, tumor_6_months and tumor_diagnosis,  are slightly postively skewed \n",
    "5. Surprisingly, patients who undergoes Radio therapy proclaim higher death rate than patients who does not go for Radio therapy\n",
    "6. Similarly higher chances of survival can be seen with the patients who doesnot go for hormonal therapy and chemotherapy"
   ]
  },
  {
   "cell_type": "markdown",
   "metadata": {},
   "source": [
    "#### Creaing a dataset for the EDA purpose only"
   ]
  },
  {
   "cell_type": "code",
   "execution_count": 14,
   "metadata": {},
   "outputs": [],
   "source": [
    "eda_dataset = pd.concat([data[:14385],survival_7_years], axis=1)"
   ]
  },
  {
   "cell_type": "code",
   "execution_count": 15,
   "metadata": {},
   "outputs": [],
   "source": [
    "for idx, feature in enumerate(list(eda_dataset.select_dtypes('number').columns)[:-1]):\n",
    "    fg = sns.FacetGrid(eda_dataset.select_dtypes('number'), hue='survival_7_years', height=5)\n",
    "    fg.map(sns.distplot, feature).add_legend()\n",
    "    plt.show()"
   ]
  },
  {
   "cell_type": "markdown",
   "metadata": {},
   "source": [
    "### Survival Rate trend in Years"
   ]
  },
  {
   "cell_type": "code",
   "execution_count": 16,
   "metadata": {},
   "outputs": [
    {
     "data": {
      "image/png": "[encoded data removed]",
      "text/plain": [
       "<Figure size 432x288 with 1 Axes>"
      ]
     },
     "metadata": {
      "needs_background": "light"
     },
     "output_type": "display_data"
    }
   ],
   "source": [
    "df_group_year_survRate=eda_dataset.groupby('Year').agg({'survival_7_years': lambda x: sum(x)*100/len(x)}).reset_index()\n",
    "df_group_year_survRate.columns = ['YEAR','SURVIVAL_RATE']\n",
    "ax = sns.lineplot(x=\"YEAR\", y=\"SURVIVAL_RATE\", data=df_group_year_survRate)"
   ]
  },
  {
   "cell_type": "markdown",
   "metadata": {},
   "source": [
    "## 3. Data Preparation and Feature Engineering"
   ]
  },
  {
   "cell_type": "markdown",
   "metadata": {},
   "source": [
    "### Creating BMI ratio using height and weight"
   ]
  },
  {
   "cell_type": "code",
   "execution_count": 17,
   "metadata": {},
   "outputs": [],
   "source": [
    "data['bmi'] = (data['weight']*703)/(data['height']*data['height'])\n",
    "data.loc[data['bmi'] < 18.5,'BMI_Category'] = 'UnderWeight'\n",
    "data.loc[(data['bmi'] >= 18.5) & (data['bmi'] <=25),'BMI_Category'] = 'NormalWeight'\n",
    "data.loc[(data['bmi'] > 25) & (data['bmi'] <=30),'BMI_Category'] = 'OverWeight'\n",
    "data.loc[data['bmi']> 30,'BMI_Category'] = \"Obesity\"\n",
    "data = data.drop(['height','weight'], axis = 1) "
   ]
  },
  {
   "cell_type": "code",
   "execution_count": 18,
   "metadata": {},
   "outputs": [
    {
     "data": {
      "image/png": "[encoded data removed]",
      "text/plain": [
       "<Figure size 451.25x360 with 1 Axes>"
      ]
     },
     "metadata": {
      "needs_background": "light"
     },
     "output_type": "display_data"
    }
   ],
   "source": [
    "eda_dataset = pd.concat([data[:14385],survival_7_years], axis=1)\n",
    "sns.catplot(y=\"BMI_Category\", hue=\"survival_7_years\", kind=\"count\",palette=\"pastel\", edgecolor=\".6\",data=eda_dataset);"
   ]
  },
  {
   "cell_type": "markdown",
   "metadata": {},
   "source": [
    "### Treating stage attribute using mapping from stage 1 to 5"
   ]
  },
  {
   "cell_type": "code",
   "execution_count": 19,
   "metadata": {},
   "outputs": [],
   "source": [
    "gen_ord_map = {'I': 1, 'IIA': 2, 'IIB': 3, 'III': 4, 'IV': 5}\n",
    "data['stage'] = data['stage'].map(gen_ord_map)\n"
   ]
  },
  {
   "cell_type": "code",
   "execution_count": 20,
   "metadata": {},
   "outputs": [
    {
     "data": {
      "image/png": "[encoded data removed]",
      "text/plain": [
       "<Figure size 451.25x360 with 1 Axes>"
      ]
     },
     "metadata": {
      "needs_background": "light"
     },
     "output_type": "display_data"
    }
   ],
   "source": [
    "eda_dataset = pd.concat([data[:14385],survival_7_years], axis=1)\n",
    "sns.catplot(y=\"stage\", hue=\"survival_7_years\", kind=\"count\",palette=\"pastel\", edgecolor=\".6\",data=eda_dataset);"
   ]
  },
  {
   "cell_type": "markdown",
   "metadata": {},
   "source": [
    "### Creating Epochs"
   ]
  },
  {
   "cell_type": "code",
   "execution_count": 21,
   "metadata": {},
   "outputs": [],
   "source": [
    "# Combinig month and year\n",
    "data['Year'] = data['Year'].astype(str)\n",
    "data['Period'] = data[['Month','Year']].agg('-'.join,axis=1)\n",
    "data = data.merge(mon, on='Period')\n",
    "data = data.drop(['Month','Year','Period'], axis = 1)"
   ]
  },
  {
   "cell_type": "markdown",
   "metadata": {},
   "source": [
    "### Creating Dummy variables"
   ]
  },
  {
   "cell_type": "code",
   "execution_count": 22,
   "metadata": {},
   "outputs": [],
   "source": [
    "cat_col = data.select_dtypes('object').columns\n",
    "df_with_dummies = pd.get_dummies(data[cat_col], columns=cat_col)\n",
    "data = data.drop(cat_col, axis = 1)\n",
    "data = pd.concat([data, df_with_dummies], axis=1)"
   ]
  },
  {
   "cell_type": "markdown",
   "metadata": {},
   "source": [
    "### Scaling"
   ]
  },
  {
   "cell_type": "code",
   "execution_count": 23,
   "metadata": {},
   "outputs": [],
   "source": [
    "scaler = MinMaxScaler()\n",
    "data_scaled = pd.DataFrame(scaler.fit_transform(data),columns = data.columns)"
   ]
  },
  {
   "cell_type": "markdown",
   "metadata": {},
   "source": [
    "### Dividing data to raw and validation dataset"
   ]
  },
  {
   "cell_type": "code",
   "execution_count": 24,
   "metadata": {},
   "outputs": [],
   "source": [
    "raw = data_scaled.head(14385)\n",
    "validation = data_scaled.tail(1000)"
   ]
  },
  {
   "cell_type": "code",
   "execution_count": 25,
   "metadata": {},
   "outputs": [],
   "source": [
    "# Splitting the X and Y into the Training set and Testing set \n",
    "X_train, X_test, y_train, y_test = train_test_split(raw, survival_7_years, test_size = 0.3, random_state = 0)"
   ]
  },
  {
   "cell_type": "markdown",
   "metadata": {},
   "source": [
    "## Model Building and Evaluation"
   ]
  },
  {
   "cell_type": "markdown",
   "metadata": {},
   "source": [
    "### As the focus will be on overall accuracy mentioned in the question. We will test the KPI on the basis of accuracy and the F1-Score"
   ]
  },
  {
   "cell_type": "code",
   "execution_count": 26,
   "metadata": {},
   "outputs": [],
   "source": [
    "score_list = []"
   ]
  },
  {
   "cell_type": "markdown",
   "metadata": {},
   "source": [
    "#### 1. Logistic Regression"
   ]
  },
  {
   "cell_type": "code",
   "execution_count": 27,
   "metadata": {},
   "outputs": [
    {
     "name": "stderr",
     "output_type": "stream",
     "text": [
      "/home/anurag/anaconda3/lib/python3.7/site-packages/sklearn/linear_model/logistic.py:432: FutureWarning: Default solver will be changed to 'lbfgs' in 0.22. Specify a solver to silence this warning.\n",
      "  FutureWarning)\n"
     ]
    },
    {
     "name": "stdout",
     "output_type": "stream",
     "text": [
      "[[2385   50]\n",
      " [1827   54]]\n"
     ]
    }
   ],
   "source": [
    "lr = LogisticRegression()\n",
    "lr.fit(X_train, y_train)\n",
    "predictions = lr.predict(X_test)\n",
    "print(confusion_matrix(y_test,predictions))"
   ]
  },
  {
   "cell_type": "code",
   "execution_count": 28,
   "metadata": {},
   "outputs": [
    {
     "name": "stdout",
     "output_type": "stream",
     "text": [
      "              precision    recall  f1-score   support\n",
      "\n",
      "           0       0.57      0.98      0.72      2435\n",
      "           1       0.52      0.03      0.05      1881\n",
      "\n",
      "    accuracy                           0.57      4316\n",
      "   macro avg       0.54      0.50      0.39      4316\n",
      "weighted avg       0.55      0.57      0.43      4316\n",
      "\n"
     ]
    }
   ],
   "source": [
    "lr_report = classification_report(y_test,predictions,output_dict=True)\n",
    "score_list.append(('Logistic Regression',lr_report['accuracy'],lr_report['macro avg']['f1-score']))\n",
    "print(classification_report(y_test,predictions))"
   ]
  },
  {
   "cell_type": "markdown",
   "metadata": {},
   "source": [
    "#### 2. Decision Tress "
   ]
  },
  {
   "cell_type": "code",
   "execution_count": 29,
   "metadata": {},
   "outputs": [
    {
     "name": "stdout",
     "output_type": "stream",
     "text": [
      "[[1351 1084]\n",
      " [1090  791]]\n"
     ]
    }
   ],
   "source": [
    "dt_model=DecisionTreeClassifier()\n",
    "dt_model.fit(X_train,y_train)\n",
    "dt_pred = dt_model.predict(X_test)\n",
    "print(confusion_matrix(y_test,dt_pred))"
   ]
  },
  {
   "cell_type": "code",
   "execution_count": 30,
   "metadata": {},
   "outputs": [
    {
     "name": "stdout",
     "output_type": "stream",
     "text": [
      "              precision    recall  f1-score   support\n",
      "\n",
      "           0       0.55      0.55      0.55      2435\n",
      "           1       0.42      0.42      0.42      1881\n",
      "\n",
      "    accuracy                           0.50      4316\n",
      "   macro avg       0.49      0.49      0.49      4316\n",
      "weighted avg       0.50      0.50      0.50      4316\n",
      "\n"
     ]
    }
   ],
   "source": [
    "dt_report = classification_report(y_test,dt_pred,output_dict=True)\n",
    "score_list.append(('Decision_Tree',dt_report['accuracy'],lr_report['macro avg']['f1-score']))\n",
    "print(classification_report(y_test,dt_pred))"
   ]
  },
  {
   "cell_type": "markdown",
   "metadata": {},
   "source": [
    "#### 3. Random Forest"
   ]
  },
  {
   "cell_type": "code",
   "execution_count": 31,
   "metadata": {},
   "outputs": [
    {
     "name": "stdout",
     "output_type": "stream",
     "text": [
      "[[2203  232]\n",
      " [1696  185]]\n"
     ]
    }
   ],
   "source": [
    "rf= RandomForestClassifier(n_estimators=500)\n",
    "rf.fit(X_train,y_train)\n",
    "rf_pred=rf.predict(X_test)\n",
    "print(confusion_matrix(y_test,rf_pred))"
   ]
  },
  {
   "cell_type": "code",
   "execution_count": 32,
   "metadata": {},
   "outputs": [
    {
     "name": "stdout",
     "output_type": "stream",
     "text": [
      "              precision    recall  f1-score   support\n",
      "\n",
      "           0       0.57      0.90      0.70      2435\n",
      "           1       0.44      0.10      0.16      1881\n",
      "\n",
      "    accuracy                           0.55      4316\n",
      "   macro avg       0.50      0.50      0.43      4316\n",
      "weighted avg       0.51      0.55      0.46      4316\n",
      "\n"
     ]
    }
   ],
   "source": [
    "rf_report = classification_report(y_test,rf_pred,output_dict=True)\n",
    "score_list.append(('Random_Forest',rf_report['accuracy'],rf_report['macro avg']['f1-score']))\n",
    "print(classification_report(y_test,rf_pred))"
   ]
  },
  {
   "cell_type": "markdown",
   "metadata": {},
   "source": [
    "#### 4. XGBoost"
   ]
  },
  {
   "cell_type": "code",
   "execution_count": 33,
   "metadata": {},
   "outputs": [
    {
     "name": "stdout",
     "output_type": "stream",
     "text": [
      "[[1776  659]\n",
      " [1406  475]]\n"
     ]
    }
   ],
   "source": [
    "xgboost = XGBClassifier(n_estimators=1000)\n",
    "xgboost.fit(X_train,y_train)\n",
    "xg_pred = xgboost.predict(X_test)\n",
    "print(confusion_matrix(y_test,xg_pred))"
   ]
  },
  {
   "cell_type": "code",
   "execution_count": 34,
   "metadata": {},
   "outputs": [
    {
     "name": "stdout",
     "output_type": "stream",
     "text": [
      "              precision    recall  f1-score   support\n",
      "\n",
      "           0       0.56      0.73      0.63      2435\n",
      "           1       0.42      0.25      0.32      1881\n",
      "\n",
      "    accuracy                           0.52      4316\n",
      "   macro avg       0.49      0.49      0.47      4316\n",
      "weighted avg       0.50      0.52      0.49      4316\n",
      "\n"
     ]
    }
   ],
   "source": [
    "xg_report = classification_report(y_test,xg_pred,output_dict=True)\n",
    "score_list.append(('XG_Boost',xg_report['accuracy'],rf_report['macro avg']['f1-score']))\n",
    "print(classification_report(y_test,xg_pred))"
   ]
  },
  {
   "cell_type": "markdown",
   "metadata": {},
   "source": [
    "#### 5. ANN Classifier"
   ]
  },
  {
   "cell_type": "code",
   "execution_count": 35,
   "metadata": {},
   "outputs": [
    {
     "name": "stderr",
     "output_type": "stream",
     "text": [
      "/home/anurag/anaconda3/lib/python3.7/site-packages/ipykernel_launcher.py:2: UserWarning: Update your `Dense` call to the Keras 2 API: `Dense(units=32, activation=\"relu\", input_dim=66, kernel_initializer=\"uniform\")`\n",
      "  \n",
      "/home/anurag/anaconda3/lib/python3.7/site-packages/ipykernel_launcher.py:3: UserWarning: Update your `Dense` call to the Keras 2 API: `Dense(units=32, activation=\"relu\", kernel_initializer=\"uniform\")`\n",
      "  This is separate from the ipykernel package so we can avoid doing imports until\n",
      "/home/anurag/anaconda3/lib/python3.7/site-packages/ipykernel_launcher.py:4: UserWarning: Update your `Dense` call to the Keras 2 API: `Dense(units=1, activation=\"sigmoid\", kernel_initializer=\"uniform\")`\n",
      "  after removing the cwd from sys.path.\n",
      "/home/anurag/anaconda3/lib/python3.7/site-packages/ipykernel_launcher.py:6: UserWarning: The `nb_epoch` argument in `fit` has been renamed `epochs`.\n",
      "  \n"
     ]
    },
    {
     "data": {
      "text/plain": [
       "<keras.callbacks.callbacks.History at 0x7fe9f621e320>"
      ]
     },
     "execution_count": 35,
     "metadata": {},
     "output_type": "execute_result"
    }
   ],
   "source": [
    "ann  = Sequential()\n",
    "ann.add(Dense(units= 32,init= 'uniform', activation = 'relu', input_dim=66))\n",
    "ann.add(Dense(units= 32,init= 'uniform', activation = 'relu'))\n",
    "ann.add(Dense(units= 1,init= 'uniform', activation = 'sigmoid'))\n",
    "ann.compile(optimizer='adam',loss='mean_squared_error',metrics=['accuracy'])\n",
    "ann.fit(X_train,y_train, batch_size=32, nb_epoch=300,verbose= 0)"
   ]
  },
  {
   "cell_type": "code",
   "execution_count": 36,
   "metadata": {},
   "outputs": [
    {
     "name": "stdout",
     "output_type": "stream",
     "text": [
      "[[1415 1020]\n",
      " [1084  797]]\n"
     ]
    }
   ],
   "source": [
    "ann_pred = ann.predict(X_test)\n",
    "ann_pred = [ 1 if y>=0.5 else 0 for y in ann_pred]\n",
    "ann_pred_final = [ 1 if y>=0.4 else 0 for y in ann_pred]\n",
    "print(confusion_matrix(y_test,ann_pred_final))"
   ]
  },
  {
   "cell_type": "code",
   "execution_count": 37,
   "metadata": {},
   "outputs": [
    {
     "name": "stdout",
     "output_type": "stream",
     "text": [
      "              precision    recall  f1-score   support\n",
      "\n",
      "           0       0.57      0.58      0.57      2435\n",
      "           1       0.44      0.42      0.43      1881\n",
      "\n",
      "    accuracy                           0.51      4316\n",
      "   macro avg       0.50      0.50      0.50      4316\n",
      "weighted avg       0.51      0.51      0.51      4316\n",
      "\n"
     ]
    }
   ],
   "source": [
    "nn_report = classification_report(y_test,ann_pred_final,output_dict=True)\n",
    "score_list.append(('Neural Net',nn_report['accuracy'],rf_report['macro avg']['f1-score']))\n",
    "print(classification_report(y_test,ann_pred_final))"
   ]
  },
  {
   "cell_type": "markdown",
   "metadata": {},
   "source": [
    "### Models Performance"
   ]
  },
  {
   "cell_type": "code",
   "execution_count": 38,
   "metadata": {},
   "outputs": [
    {
     "data": {
      "image/png": "[encoded data removed]",
      "text/plain": [
       "<Figure size 1080x360 with 2 Axes>"
      ]
     },
     "metadata": {
      "needs_background": "light"
     },
     "output_type": "display_data"
    }
   ],
   "source": [
    "df = pd.DataFrame(score_list, columns =['Model', 'Accuracy', 'F-Score']).sort_values(by=['F-Score'],  ascending=False)\n",
    "fig, ax1 = plt.subplots(figsize=(15,5))\n",
    "ax2 = ax1.twinx()\n",
    "ax1.plot(df['Model'], df['Accuracy'], 'g-')\n",
    "ax2.plot(df['Model'], df['F-Score'], 'b-')\n",
    "ax1.set_xlabel('MODELS')\n",
    "ax1.set_ylabel('Accuracy', color='g',fontsize ='xx-large')\n",
    "ax2.set_ylabel('F-Score', color='b',fontsize ='xx-large')\n",
    "plt.show()"
   ]
  },
  {
   "cell_type": "markdown",
   "metadata": {},
   "source": [
    "## 5. Use test dataset"
   ]
  },
  {
   "cell_type": "code",
   "execution_count": 39,
   "metadata": {},
   "outputs": [],
   "source": [
    "test = pd.read_csv(\"~/Downloads/DS/test.csv\",index_col=0)"
   ]
  },
  {
   "cell_type": "code",
   "execution_count": 40,
   "metadata": {},
   "outputs": [],
   "source": [
    "test_prediction = rf.predict(validation)\n",
    "test = test.drop(['survival_7_years'], axis=1)\n",
    "test['survival_7_years'] = test_prediction"
   ]
  },
  {
   "cell_type": "code",
   "execution_count": 41,
   "metadata": {},
   "outputs": [],
   "source": [
    "# test.to_csv('new_test.csv' , index=False)"
   ]
  },
  {
   "cell_type": "code",
   "execution_count": 42,
   "metadata": {},
   "outputs": [
    {
     "data": {
      "text/plain": [
       "80"
      ]
     },
     "execution_count": 42,
     "metadata": {},
     "output_type": "execute_result"
    }
   ],
   "source": [
    "test.survival_7_years.sum()"
   ]
  },
  {
   "cell_type": "code",
   "execution_count": null,
   "metadata": {},
   "outputs": [],
   "source": []
  }
 ],
 "metadata": {
  "kernelspec": {
   "display_name": "Python 3",
   "language": "python",
   "name": "python3"
  },
  "language_info": {
   "codemirror_mode": {
    "name": "ipython",
    "version": 3
   },
   "file_extension": ".py",
   "mimetype": "text/x-python",
   "name": "python",
   "nbconvert_exporter": "python",
   "pygments_lexer": "ipython3",
   "version": "3.7.3"
  }
 },
 "nbformat": 4,
 "nbformat_minor": 2
}
